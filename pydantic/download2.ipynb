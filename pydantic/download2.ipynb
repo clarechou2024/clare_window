{
 "cells": [
  {
   "cell_type": "code",
   "execution_count": 1,
   "metadata": {},
   "outputs": [
    {
     "name": "stdout",
     "output_type": "stream",
     "text": [
      "下載成功\n"
     ]
    }
   ],
   "source": [
    "import requests\n",
    "from requests import Response\n",
    "\n",
    "aqi_url = 'https://data.moenv.gov.tw/api/v2/aqx_p_488?api_key=e8dd42e6-9b8b-43f8-991e-b3dee723a52d&limit=1000&sort=datacreationdate desc&format=JSON'\n",
    "try:\n",
    "    res:Response = requests.request(\"Get\",aqi_url)\n",
    "except Exception as e:\n",
    "    print(e)\n",
    "\n",
    "if res.ok:\n",
    "    print(\"下載成功\")\n",
    "else: \n",
    "    print(\"下載失敗\")"
   ]
  },
  {
   "cell_type": "code",
   "execution_count": null,
   "metadata": {},
   "outputs": [],
   "source": [
    "from pydantic import BaseModel,Field     ##驗證/確保資料完整性##\n",
    "\n",
    "class Site(BaseModel):\n",
    "    sitename:str\n",
    "    county:str\n",
    "    aqi:int\n",
    "    status:str\n",
    "\n",
    "class AQI(BaseModel):\n",
    "    records:list[Site]\n",
    "\n",
    "data:AQI = AQI.model_validate_json(res.text)\n",
    "records:list[Site] = data.records\n",
    "for record in records:\n",
    "    print(record)"
   ]
  },
  {
   "cell_type": "code",
   "execution_count": null,
   "metadata": {},
   "outputs": [],
   "source": [
    "#data.model_dump() --> 變成PYTHON資料結構\n",
    "\n",
    "all_data:dict = data.model_dump()\n",
    "all_data"
   ]
  }
 ],
 "metadata": {
  "kernelspec": {
   "display_name": "venv1",
   "language": "python",
   "name": "python3"
  },
  "language_info": {
   "codemirror_mode": {
    "name": "ipython",
    "version": 3
   },
   "file_extension": ".py",
   "mimetype": "text/x-python",
   "name": "python",
   "nbconvert_exporter": "python",
   "pygments_lexer": "ipython3",
   "version": "3.10.14"
  }
 },
 "nbformat": 4,
 "nbformat_minor": 2
}
