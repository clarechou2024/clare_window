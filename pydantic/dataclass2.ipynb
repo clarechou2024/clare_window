{
 "cells": [
  {
   "cell_type": "code",
   "execution_count": 1,
   "metadata": {},
   "outputs": [],
   "source": [
    "#dataclass\n",
    "\n",
    "from dataclasses import dataclass\n",
    "\n",
    "@dataclass\n",
    "class IndentoryItem:     #建立一個表格\n",
    "    \"\"\"class for keeping track of an item in inventory.\"\"\"\n",
    "    name: str                      #欄位\n",
    "    unit_price: float              #欄位\n",
    "    quantity_on_hand: int = 0      #欄位"
   ]
  },
  {
   "cell_type": "code",
   "execution_count": 5,
   "metadata": {},
   "outputs": [
    {
     "name": "stdout",
     "output_type": "stream",
     "text": [
      "IndentoryItem(name='手機套', unit_price=150.5, quantity_on_hand=0)\n",
      "手機套\n",
      "150.5\n",
      "0\n"
     ]
    }
   ],
   "source": [
    "item1 = IndentoryItem(name=\"手機套\",unit_price=150.5)   #將內容套到上面欄位中\n",
    "print(item1)\n",
    "print(item1.name)\n",
    "print(item1.unit_price)\n",
    "print(item1.quantity_on_hand)\n"
   ]
  }
 ],
 "metadata": {
  "kernelspec": {
   "display_name": "venv1",
   "language": "python",
   "name": "python3"
  },
  "language_info": {
   "codemirror_mode": {
    "name": "ipython",
    "version": 3
   },
   "file_extension": ".py",
   "mimetype": "text/x-python",
   "name": "python",
   "nbconvert_exporter": "python",
   "pygments_lexer": "ipython3",
   "version": "3.10.14"
  }
 },
 "nbformat": 4,
 "nbformat_minor": 2
}
